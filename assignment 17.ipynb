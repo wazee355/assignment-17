{
 "cells": [
  {
   "cell_type": "markdown",
   "id": "21ac2c63",
   "metadata": {},
   "source": [
    "1. Assign the value 7 to the variable guess_me. Then, write the conditional tests (if, else, and elif) to print the string 'too low' if guess_me is less than 7, 'too high' if greater than 7, and 'just right' if equal to 7."
   ]
  },
  {
   "cell_type": "code",
   "execution_count": 3,
   "id": "d3eb7a1d",
   "metadata": {},
   "outputs": [
    {
     "name": "stdout",
     "output_type": "stream",
     "text": [
      "enter value:6\n",
      "too low\n"
     ]
    }
   ],
   "source": [
    "guess_me= int(input(\"enter value:\"))\n",
    "if guess_me==7:\n",
    "    print('just right')\n",
    "elif guess_me >7:\n",
    "    print('too high')\n",
    "else:\n",
    "    print('too low')"
   ]
  },
  {
   "cell_type": "markdown",
   "id": "ae175841",
   "metadata": {},
   "source": [
    "2.Assign the value 7 to the variable guess_me and the value 1 to the variable start. Write a while loop that compares start with guess_me. Print too low if start is less than guess me. If start equals guess_me, print 'found it!' and exit the loop. If start is greater than guess_me, print 'oops' and exit the loop. Increment start at the end of the loop."
   ]
  },
  {
   "cell_type": "code",
   "execution_count": 5,
   "id": "718ff9ff",
   "metadata": {},
   "outputs": [
    {
     "name": "stdout",
     "output_type": "stream",
     "text": [
      "too low\n",
      "too low\n",
      "too low\n",
      "too low\n",
      "too low\n",
      "too low\n",
      "foundt it!\n"
     ]
    }
   ],
   "source": [
    "guess_me= 7\n",
    "start = 1\n",
    "while True:\n",
    "    if start< guess_me:\n",
    "        print('too low')\n",
    "    elif start== guess_me:\n",
    "        print('foundt it!')\n",
    "        break\n",
    "    else:\n",
    "        print('oops')\n",
    "        break\n",
    "    start += 1    "
   ]
  },
  {
   "cell_type": "markdown",
   "id": "33fc8bb3",
   "metadata": {},
   "source": [
    "3.  Print the following values of the list [3, 2, 1, 0] using a for loop."
   ]
  },
  {
   "cell_type": "code",
   "execution_count": 7,
   "id": "fe78e211",
   "metadata": {},
   "outputs": [
    {
     "name": "stdout",
     "output_type": "stream",
     "text": [
      "3\n",
      "2\n",
      "1\n",
      "0\n"
     ]
    }
   ],
   "source": [
    "list = [3,2,1,0]\n",
    "for i in list:\n",
    "    print(i)"
   ]
  },
  {
   "cell_type": "markdown",
   "id": "d68ea042",
   "metadata": {},
   "source": [
    "4. Use a list comprehension to make a list of the even numbers in range(10)."
   ]
  },
  {
   "cell_type": "code",
   "execution_count": 10,
   "id": "e6b7943a",
   "metadata": {},
   "outputs": [
    {
     "data": {
      "text/plain": [
       "[0, 2, 4, 6, 8]"
      ]
     },
     "execution_count": 10,
     "metadata": {},
     "output_type": "execute_result"
    }
   ],
   "source": [
    "even = [item for item in range(10) if item%2 ==0]\n",
    "even"
   ]
  },
  {
   "cell_type": "markdown",
   "id": "6f56624b",
   "metadata": {},
   "source": [
    "5. Use a dictionary comprehension to create the dictionary squares. Use range(10) to return the keys, and use the square of each key as its value."
   ]
  },
  {
   "cell_type": "code",
   "execution_count": 14,
   "id": "e9aaeb1b",
   "metadata": {},
   "outputs": [
    {
     "data": {
      "text/plain": [
       "{0: 0, 1: 1, 2: 4, 3: 9, 4: 16, 5: 25, 6: 36, 7: 49, 8: 64, 9: 81}"
      ]
     },
     "execution_count": 14,
     "metadata": {},
     "output_type": "execute_result"
    }
   ],
   "source": [
    "squares = {num: num * num for num in range(10)}\n",
    "squares"
   ]
  },
  {
   "cell_type": "markdown",
   "id": "1d8ea64b",
   "metadata": {},
   "source": [
    "6.  Construct the set odd from the odd numbers in the range using a set comprehension (10)."
   ]
  },
  {
   "cell_type": "code",
   "execution_count": 16,
   "id": "5b179dc7",
   "metadata": {},
   "outputs": [
    {
     "data": {
      "text/plain": [
       "{1, 3, 5, 7, 9}"
      ]
     },
     "execution_count": 16,
     "metadata": {},
     "output_type": "execute_result"
    }
   ],
   "source": [
    "odd= { item for item in range(10) if item%2==1}\n",
    "odd"
   ]
  },
  {
   "cell_type": "markdown",
   "id": "8c6e0c23",
   "metadata": {},
   "source": [
    "7. Use a generator comprehension to return the string 'Got' and a number for the numbers in range(10). Iterate through this by using a for loop."
   ]
  },
  {
   "cell_type": "code",
   "execution_count": 17,
   "id": "2093fa09",
   "metadata": {},
   "outputs": [
    {
     "name": "stdout",
     "output_type": "stream",
     "text": [
      "Got0\n",
      "Got1\n",
      "Got2\n",
      "Got3\n",
      "Got4\n",
      "Got5\n",
      "Got6\n",
      "Got7\n",
      "Got8\n",
      "Got9\n"
     ]
    }
   ],
   "source": [
    "string_generator = ('Got'+ str(num) for num in range(10))\n",
    "for item in string_generator:\n",
    "    print(item)"
   ]
  },
  {
   "cell_type": "raw",
   "id": "e08731e1",
   "metadata": {},
   "source": [
    "8.  Define a function called good that returns the list ['Harry', 'Ron', 'Hermione']."
   ]
  },
  {
   "cell_type": "code",
   "execution_count": 18,
   "id": "9d29d78f",
   "metadata": {},
   "outputs": [
    {
     "data": {
      "text/plain": [
       "['Harry', 'Ron', 'Hermione']"
      ]
     },
     "execution_count": 18,
     "metadata": {},
     "output_type": "execute_result"
    }
   ],
   "source": [
    "def returnList():\n",
    "    return['Harry','Ron','Hermione']\n",
    "returnList()"
   ]
  },
  {
   "cell_type": "markdown",
   "id": "15dbdbe0",
   "metadata": {},
   "source": [
    "9.  Define a generator function called get_odds that returns the odd numbers from range(10). Use a for loop to find and print the third value returned."
   ]
  },
  {
   "cell_type": "code",
   "execution_count": 19,
   "id": "8c8d77ef",
   "metadata": {},
   "outputs": [
    {
     "name": "stdout",
     "output_type": "stream",
     "text": [
      "the third odd number is 5\n"
     ]
    }
   ],
   "source": [
    "def get_odds():\n",
    "    for number in range(1,10,2):\n",
    "        yield number\n",
    "count= 1\n",
    "for number in get_odds():\n",
    "    if count ==3:\n",
    "        print('the third odd number is', number)\n",
    "        break\n",
    "    count +=1    "
   ]
  },
  {
   "cell_type": "markdown",
   "id": "69e7d32e",
   "metadata": {},
   "source": [
    "10. Define an exception called OopsException. Raise this exception to see what happens. Then writethe code to catch this exception and print 'Caught an oops'."
   ]
  },
  {
   "cell_type": "code",
   "execution_count": 20,
   "id": "7729ff82",
   "metadata": {},
   "outputs": [
    {
     "name": "stdout",
     "output_type": "stream",
     "text": [
      "Caught an oops\n"
     ]
    }
   ],
   "source": [
    "class OopsException(Exception):\n",
    "    pass\n",
    "def raiseException(num):\n",
    "    if num<0:\n",
    "        raise OopsException(num)\n",
    "\n",
    "try:\n",
    "    raiseException(-3)\n",
    "except OopsException as err:\n",
    "    print('Caught an oops')"
   ]
  },
  {
   "cell_type": "markdown",
   "id": "15d052b0",
   "metadata": {},
   "source": [
    "11. Use zip() to make a dictionary called movies that pairs these lists: titles = ['Creature of Habit',\n",
    "'Crewel Fate'] and plots = ['A nun turns into a monster', 'A haunted yarn shop']."
   ]
  },
  {
   "cell_type": "code",
   "execution_count": 21,
   "id": "0b3373ac",
   "metadata": {},
   "outputs": [
    {
     "name": "stdout",
     "output_type": "stream",
     "text": [
      "{'Creatures of Habit': 'A nun turns into a monster', 'Crewl Fate': 'A haunted yarn shop'}\n"
     ]
    }
   ],
   "source": [
    "titles = ['Creatures of Habit','Crewl Fate']\n",
    "plots = ['A nun turns into a monster','A haunted yarn shop']\n",
    "movies= dict(zip(titles, plots))\n",
    "print(movies)"
   ]
  },
  {
   "cell_type": "code",
   "execution_count": null,
   "id": "13e7540c",
   "metadata": {},
   "outputs": [],
   "source": []
  }
 ],
 "metadata": {
  "kernelspec": {
   "display_name": "Python 3 (ipykernel)",
   "language": "python",
   "name": "python3"
  },
  "language_info": {
   "codemirror_mode": {
    "name": "ipython",
    "version": 3
   },
   "file_extension": ".py",
   "mimetype": "text/x-python",
   "name": "python",
   "nbconvert_exporter": "python",
   "pygments_lexer": "ipython3",
   "version": "3.9.7"
  }
 },
 "nbformat": 4,
 "nbformat_minor": 5
}
